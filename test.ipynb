{
 "cells": [
  {
   "cell_type": "code",
   "execution_count": 1,
   "metadata": {},
   "outputs": [],
   "source": [
    "import cv2\n",
    "import os\n",
    "import numpy as np\n",
    "from IPython.display import display\n",
    "import matplotlib.pyplot as plt\n",
    "import math\n",
    "import plotly.graph_objects as go"
   ]
  },
  {
   "cell_type": "code",
   "execution_count": 85,
   "metadata": {},
   "outputs": [],
   "source": [
    "def showImg(img: cv2.typing.MatLike):\n",
    "    plt.imshow(img, cmap='gray')\n",
    "    plt.axis('off')  # Hide axes\n",
    "    plt.show()\n",
    "\n",
    "def plot3D(data):\n",
    "    z, x, y = np.indices(data.shape)\n",
    "    values = data.flatten()\n",
    "    \n",
    "    # Normalize values to range [0, 1] for opacity\n",
    "    normalized_values = (values - values.min()) / (values.max() - values.min())\n",
    "    \n",
    "    # Create RGBA colors with opacity based on normalized values\n",
    "    colors = [f'rgba(0, 0, 255, {opacity})' for opacity in normalized_values]\n",
    "\n",
    "    # Create the 3D scatter plot\n",
    "    fig = go.Figure(data=[go.Scatter3d(\n",
    "        x=x.flatten(),\n",
    "        y=y.flatten(),\n",
    "        z=z.flatten(),\n",
    "        mode='markers',\n",
    "        marker=dict(\n",
    "            size=5,\n",
    "            color=colors,\n",
    "            colorscale='Viridis',\n",
    "            colorbar=dict(title='Value')\n",
    "        )\n",
    "    )])\n",
    "\n",
    "    # Update layout for better visibility\n",
    "    fig.update_layout(scene=dict(\n",
    "        xaxis_title='X',\n",
    "        yaxis_title='Y',\n",
    "        zaxis_title='Rad'\n",
    "    ),\n",
    "        width=800,\n",
    "        height=800,\n",
    "        title='Accumulator greatest values'\n",
    "    )\n",
    "\n",
    "    # Display the plot\n",
    "    fig.show()"
   ]
  },
  {
   "cell_type": "code",
   "execution_count": 3,
   "metadata": {},
   "outputs": [],
   "source": [
    "def get_edges(img: cv2.typing.MatLike, ksize=1):\n",
    "    #calculating the derivatives/sobels on both axis\n",
    "    sobel_x = cv2.Sobel(img, cv2.CV_64F, 1, 0, ksize=ksize)\n",
    "    sobel_y = cv2.Sobel(img, cv2.CV_64F, 0, 1, ksize=ksize)\n",
    "    \n",
    "    #combining both axis sobels\n",
    "    sobel = np.hypot(sobel_x, sobel_y)\n",
    "\n",
    "    \n",
    "    sobel = np.divide(sobel, sobel.max(), out=sobel)\n",
    "    sobel = np.multiply(sobel, 255, out=sobel)\n",
    "    \n",
    "    #conversion to array of uint8 to free up space\n",
    "    edges: np.ndarray[np.unit8] = np.uint8(sobel)\n",
    "\n",
    "    return edges"
   ]
  },
  {
   "cell_type": "code",
   "execution_count": null,
   "metadata": {},
   "outputs": [
    {
     "data": {
      "image/png": "[encoded data removed]",
      "text/plain": [
       "<Figure size 640x480 with 1 Axes>"
      ]
     },
     "metadata": {},
     "output_type": "display_data"
    },
    {
     "ename": "ValueError",
     "evalue": "zero-size array to reduction operation maximum which has no identity",
     "output_type": "error",
     "traceback": [
      "\u001b[1;31m---------------------------------------------------------------------------\u001b[0m",
      "\u001b[1;31mValueError\u001b[0m                                Traceback (most recent call last)",
      "Cell \u001b[1;32mIn[156], line 111\u001b[0m\n\u001b[0;32m     88\u001b[0m \u001b[38;5;66;03m#checking that the normalization works as intended\u001b[39;00m\n\u001b[0;32m     89\u001b[0m \u001b[38;5;124;03m\"\"\"acc = detect_circles('images/25-25grand.png',\u001b[39;00m\n\u001b[0;32m     90\u001b[0m \u001b[38;5;124;03m               10, 50, 1,\u001b[39;00m\n\u001b[0;32m     91\u001b[0m \u001b[38;5;124;03m               0, 50, 1,\u001b[39;00m\n\u001b[1;32m   (...)\u001b[0m\n\u001b[0;32m    107\u001b[0m \u001b[38;5;124;03mfor radius in range(acc.shape[0]):\u001b[39;00m\n\u001b[0;32m    108\u001b[0m \u001b[38;5;124;03m    print(acc[radius][25][25])\"\"\"\u001b[39;00m\n\u001b[1;32m--> 111\u001b[0m acc \u001b[38;5;241m=\u001b[39m \u001b[43mdetect_circles\u001b[49m\u001b[43m(\u001b[49m\u001b[38;5;124;43m'\u001b[39;49m\u001b[38;5;124;43mimages/four.png\u001b[39;49m\u001b[38;5;124;43m'\u001b[39;49m\u001b[43m,\u001b[49m\n\u001b[0;32m    112\u001b[0m \u001b[43m               \u001b[49m\u001b[38;5;241;43m10\u001b[39;49m\u001b[43m,\u001b[49m\u001b[43m \u001b[49m\u001b[38;5;241;43m50\u001b[39;49m\u001b[43m,\u001b[49m\u001b[43m \u001b[49m\u001b[38;5;241;43m1\u001b[39;49m\u001b[43m,\u001b[49m\n\u001b[0;32m    113\u001b[0m \u001b[43m               \u001b[49m\u001b[38;5;241;43m0\u001b[39;49m\u001b[43m,\u001b[49m\u001b[43m \u001b[49m\u001b[38;5;241;43m100\u001b[39;49m\u001b[43m,\u001b[49m\u001b[43m \u001b[49m\u001b[38;5;241;43m2\u001b[39;49m\u001b[43m,\u001b[49m\n\u001b[0;32m    114\u001b[0m \u001b[43m               \u001b[49m\u001b[38;5;241;43m0\u001b[39;49m\u001b[43m,\u001b[49m\u001b[43m \u001b[49m\u001b[38;5;241;43m100\u001b[39;49m\u001b[43m,\u001b[49m\u001b[43m \u001b[49m\u001b[38;5;241;43m2\u001b[39;49m\u001b[43m,\u001b[49m\n\u001b[0;32m    115\u001b[0m \u001b[43m               \u001b[49m\u001b[43mksize\u001b[49m\u001b[38;5;241;43m=\u001b[39;49m\u001b[38;5;241;43m1\u001b[39;49m\u001b[43m)\u001b[49m\n\u001b[0;32m    117\u001b[0m \u001b[38;5;66;03m#showImg(acc[2])\u001b[39;00m\n\u001b[0;32m    119\u001b[0m \u001b[38;5;124;03m\"\"\"acc2 = acc\u001b[39;00m\n\u001b[0;32m    120\u001b[0m \u001b[38;5;124;03mfor x in range(acc2.shape[0]):\u001b[39;00m\n\u001b[0;32m    121\u001b[0m \u001b[38;5;124;03m    for y in range(acc2.shape[1]):\u001b[39;00m\n\u001b[1;32m   (...)\u001b[0m\n\u001b[0;32m    124\u001b[0m \u001b[38;5;124;03m                acc2[x][y][z] = 0\u001b[39;00m\n\u001b[0;32m    125\u001b[0m \u001b[38;5;124;03mplot3D(acc2)\"\"\"\u001b[39;00m\n",
      "Cell \u001b[1;32mIn[156], line 72\u001b[0m, in \u001b[0;36mdetect_circles\u001b[1;34m(path, rad_min, rad_max, rad_step, x_min, x_max, x_step, y_min, y_max, y_step, ksize)\u001b[0m\n\u001b[0;32m     70\u001b[0m \u001b[38;5;28;01mfor\u001b[39;00m x \u001b[38;5;129;01min\u001b[39;00m \u001b[38;5;28mrange\u001b[39m(acc\u001b[38;5;241m.\u001b[39mshape[\u001b[38;5;241m1\u001b[39m]):\n\u001b[0;32m     71\u001b[0m     \u001b[38;5;28;01mfor\u001b[39;00m y \u001b[38;5;129;01min\u001b[39;00m \u001b[38;5;28mrange\u001b[39m(acc\u001b[38;5;241m.\u001b[39mshape[\u001b[38;5;241m2\u001b[39m]):\n\u001b[1;32m---> 72\u001b[0m         val \u001b[38;5;241m=\u001b[39m acc[rad\u001b[38;5;241m-\u001b[39m\u001b[38;5;241m1\u001b[39m:rad\u001b[38;5;241m+\u001b[39m\u001b[38;5;241m1\u001b[39m, rad\u001b[38;5;241m-\u001b[39m\u001b[38;5;241m1\u001b[39m:rad\u001b[38;5;241m+\u001b[39m\u001b[38;5;241m1\u001b[39m, rad\u001b[38;5;241m-\u001b[39m\u001b[38;5;241m1\u001b[39m:rad\u001b[38;5;241m+\u001b[39m\u001b[38;5;241m1\u001b[39m]\u001b[38;5;241m.\u001b[39mmax()\n\u001b[0;32m     73\u001b[0m         \u001b[38;5;28;01mif\u001b[39;00m val \u001b[38;5;241m>\u001b[39m \u001b[38;5;241m0.9\u001b[39m:\n\u001b[0;32m     74\u001b[0m             res\u001b[38;5;241m.\u001b[39mappend((rad, x, y))\n",
      "File \u001b[1;32mc:\\Users\\arnau\\Documents\\Travail\\polytech\\traitement_d_images\\mini_projet_2\\app5-circle-detection\\venv1\\Lib\\site-packages\\numpy\\_core\\_methods.py:45\u001b[0m, in \u001b[0;36m_amax\u001b[1;34m(a, axis, out, keepdims, initial, where)\u001b[0m\n\u001b[0;32m     43\u001b[0m \u001b[38;5;28;01mdef\u001b[39;00m \u001b[38;5;21m_amax\u001b[39m(a, axis\u001b[38;5;241m=\u001b[39m\u001b[38;5;28;01mNone\u001b[39;00m, out\u001b[38;5;241m=\u001b[39m\u001b[38;5;28;01mNone\u001b[39;00m, keepdims\u001b[38;5;241m=\u001b[39m\u001b[38;5;28;01mFalse\u001b[39;00m,\n\u001b[0;32m     44\u001b[0m           initial\u001b[38;5;241m=\u001b[39m_NoValue, where\u001b[38;5;241m=\u001b[39m\u001b[38;5;28;01mTrue\u001b[39;00m):\n\u001b[1;32m---> 45\u001b[0m     \u001b[38;5;28;01mreturn\u001b[39;00m umr_maximum(a, axis, \u001b[38;5;28;01mNone\u001b[39;00m, out, keepdims, initial, where)\n",
      "\u001b[1;31mValueError\u001b[0m: zero-size array to reduction operation maximum which has no identity"
     ]
    }
   ],
   "source": [
    "def detect_circles(path: str,\n",
    "                   rad_min: int, rad_max: int, rad_step: int,\n",
    "                   x_min: int, x_max: int, x_step: int,\n",
    "                   y_min: int, y_max: int, y_step: int,\n",
    "                   ksize: int=1):\n",
    "    \n",
    "    \n",
    "\n",
    "    img = cv2.imread(path, cv2.IMREAD_GRAYSCALE)\n",
    "\n",
    "    img_width, img_height = img.shape[0], img.shape[1]\n",
    "\n",
    "    wrongBounds = False\n",
    "    wrongBounds = x_min < 0 or x_max > img_width or y_min < 0 or y_max > img_height or rad_min < 0\n",
    "    \n",
    "    if (wrongBounds):\n",
    "        print(\"Error : Wrong dimensions\")\n",
    "        return\n",
    "\n",
    "    #getting the image containing the edges\n",
    "    edges_img = get_edges(img, ksize=ksize)\n",
    "    showImg(edges_img)\n",
    "    #iterating through the edges pixels\n",
    "    threshold = 100     #minimum value for a pixel of edges_img to be considered as part of an edge\n",
    "    \n",
    "    #creating the accumulator\n",
    "    acc_x_max = (x_max-x_min)//x_step\n",
    "    acc_y_max = (y_max-y_min)//y_step\n",
    "    acc_rad_max = (rad_max - rad_min) // rad_step\n",
    "    \n",
    "    acc = np.zeros((acc_rad_max, acc_x_max, acc_y_max))\n",
    "\n",
    "    \n",
    "    for rad in range(rad_min, rad_max, rad_step):\n",
    "        for x in range(x_min, x_max, x_step):\n",
    "            for y in range(y_min, y_max, y_step):\n",
    "                if (edges_img[x][y] > threshold):\n",
    "                    \n",
    "                    #change of variable : this part of the code probably has a mistake\n",
    "                    X = (x-x_min)//x_step\n",
    "                    Y = (y-y_min)//y_step\n",
    "                    RAD = (rad-rad_min)//rad_step\n",
    "                    if RAD >= acc_rad_max:\n",
    "                        continue\n",
    "                    \n",
    "\n",
    "                    #FILLING THE ACCUMULATOR\n",
    "                    ang_step = 1/rad  #pretty much random I just found this value works well\n",
    "\n",
    "                    for ang in np.arange(0, 2*math.pi, ang_step):   #drawing the circle\n",
    "                        vote_x = math.floor(X+ (rad*math.cos(ang))//x_step)\n",
    "                        if vote_x < 0 or vote_x >= acc_x_max:\n",
    "                            continue\n",
    "                        vote_y = math.floor(Y+ (rad*math.sin(ang))//y_step)\n",
    "                        if vote_y < 0 or vote_y >= acc_y_max:\n",
    "                            continue\n",
    "                            \n",
    "                        acc[RAD][vote_x][vote_y] += 1\n",
    "    \n",
    "        #Egaliser les votes en fonction du radp\n",
    "        #print(\"---------------\", acc[RAD][20][20])\n",
    "        acc[RAD] = acc[RAD]/(rad*math.pi)\n",
    "        #print(\"---------------\", acc[RAD][20][20])\n",
    "\n",
    "\n",
    "    #Searching for local maximas of votes (most voted cells) aka the coordinates of the circles.\n",
    "    res = []\n",
    "    max = 0\n",
    "    for rad in range(acc.shape[0]):\n",
    "        for x in range(acc.shape[1]):\n",
    "            for y in range(acc.shape[2]):\n",
    "                val = acc[rad-1:rad+1, rad-1:rad+1, rad-1:rad+1].max()\n",
    "                if val > 0.9:\n",
    "                    res.append((rad, x, y))\n",
    "\n",
    "\n",
    "                \"\"\"for RAD in range(rad-1, rad+2):\n",
    "                    for X in range(x-1, x+2):\n",
    "                        for Y in range(y-1, y+2):\n",
    "                            try:\n",
    "                                max = max(acc[RAD][X][Y], max)\n",
    "                            except:\n",
    "                                continue\"\"\"\n",
    "    print(\"LE RESULTAT ; \", res)\n",
    "    return acc\n",
    "\n",
    "\n",
    "#checking that the normalization works as intended\n",
    "\"\"\"acc = detect_circles('images/25-25grand.png',\n",
    "               10, 50, 1,\n",
    "               0, 50, 1,\n",
    "               0, 50, 1,\n",
    "               ksize=1)\n",
    "\n",
    "showImg(acc[12])\n",
    "for radius in range(acc.shape[0]):\n",
    "    print(acc[radius][25][25])\n",
    "\n",
    "\n",
    "acc = detect_circles('images/25-25moyen.png',\n",
    "               10, 50, 1,\n",
    "               0, 50, 1,\n",
    "               0, 50, 1,\n",
    "               ksize=1)\n",
    "\n",
    "showImg(acc[12])\n",
    "for radius in range(acc.shape[0]):\n",
    "    print(acc[radius][25][25])\"\"\"\n",
    "\n",
    "\n",
    "acc = detect_circles('images/four.png',\n",
    "               10, 50, 1,\n",
    "               0, 100, 2,\n",
    "               0, 100, 2,\n",
    "               ksize=1)\n",
    "\n",
    "#showImg(acc[2])\n",
    "\n",
    "\"\"\"acc2 = acc\n",
    "for x in range(acc2.shape[0]):\n",
    "    for y in range(acc2.shape[1]):\n",
    "        for z in range(acc2.shape[2]):\n",
    "            if acc2[x][y][z] < 0.5:\n",
    "                acc2[x][y][z] = 0\n",
    "plot3D(acc2)\"\"\""
   ]
  },
  {
   "cell_type": "code",
   "execution_count": 108,
   "metadata": {},
   "outputs": [
    {
     "data": {
      "text/plain": [
       "(3, 3, 50)"
      ]
     },
     "execution_count": 108,
     "metadata": {},
     "output_type": "execute_result"
    }
   ],
   "source": [
    "acc[0:3, 0:3].shape"
   ]
  },
  {
   "cell_type": "code",
   "execution_count": 5,
   "metadata": {},
   "outputs": [
    {
     "name": "stdout",
     "output_type": "stream",
     "text": [
      "[255 255 255 255 255 255 255 255 255 255 255 255 255 255 255 255 255 255\n",
      " 255 255 255 255 255 255 255 255 255 255 255 255 255 255 255 255 255 255\n",
      " 255 255 255 255 255 255 255 255 255 255 255 255 255 255 255 255 255 255\n",
      " 255 255 255 255 255 255 255 255 255 255 255 255 255 255 255 255 255 255\n",
      " 255 255 255 255 255 255 255 255 255 255 255 255 255 255 255 255 255 255\n",
      " 255 255 255 255 255 255 255 255 255 255]\n"
     ]
    },
    {
     "data": {
      "image/png": "[encoded data removed]",
      "text/plain": [
       "<Figure size 640x480 with 1 Axes>"
      ]
     },
     "metadata": {},
     "output_type": "display_data"
    }
   ],
   "source": [
    "img = cv2.imread('images/four.png', cv2.IMREAD_GRAYSCALE)\n",
    "\n",
    "print(img[0])\n",
    "showImg(img)"
   ]
  },
  {
   "cell_type": "code",
   "execution_count": 6,
   "metadata": {},
   "outputs": [
    {
     "data": {
      "image/png": "[encoded data removed]",
      "text/plain": [
       "<Figure size 640x480 with 1 Axes>"
      ]
     },
     "metadata": {},
     "output_type": "display_data"
    }
   ],
   "source": [
    "def fillAcc(x, y, rad):\n",
    "    acc_x_max = 100\n",
    "    acc_y_max = 100\n",
    "    acc_rad_max = 100\n",
    "\n",
    "    acc = np.zeros((acc_rad_max, acc_x_max, acc_y_max))\n",
    "    \n",
    "    ang_step = 1.5/rad  #pretty much random I just found this value works well\n",
    "\n",
    "    for ang in np.arange(0, 2*math.pi, ang_step):\n",
    "        vote_x = math.floor(x+rad*math.cos(ang))\n",
    "        if vote_x < 0 or vote_x >= acc_x_max:\n",
    "            continue\n",
    "        vote_y = math.floor(y+rad*math.sin(ang))\n",
    "        if vote_y < 0 or vote_y >= acc_y_max:\n",
    "            continue\n",
    "\n",
    "        acc[rad][vote_x][vote_y] += 1\n",
    "    showImg(acc[rad])\n",
    "\n",
    "fillAcc(50, 50, 10)"
   ]
  }
 ],
 "metadata": {
  "kernelspec": {
   "display_name": "venv1",
   "language": "python",
   "name": "python3"
  },
  "language_info": {
   "codemirror_mode": {
    "name": "ipython",
    "version": 3
   },
   "file_extension": ".py",
   "mimetype": "text/x-python",
   "name": "python",
   "nbconvert_exporter": "python",
   "pygments_lexer": "ipython3",
   "version": "3.11.9"
  }
 },
 "nbformat": 4,
 "nbformat_minor": 2
}
